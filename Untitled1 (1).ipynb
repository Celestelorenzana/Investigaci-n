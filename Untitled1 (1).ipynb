{
 "cells": [
  {
   "cell_type": "markdown",
   "id": "881a76a7-6298-42b2-b649-7561eb964c24",
   "metadata": {
    "tags": []
   },
   "source": [
    "# 1. Que es Git "
   ]
  },
  {
   "cell_type": "code",
   "execution_count": 10,
   "id": "5d556dca-69bd-4447-843c-e9c3fcebdd82",
   "metadata": {
    "tags": []
   },
   "outputs": [
    {
     "data": {
      "text/plain": [
       "'Git es un sistema de control de versiones distribuido, ampliamente utilizado en el desarrollo de software para gestionar el seguimiento de cambios en el código fuente durante el desarrollo de un proyecto. Fue creado por Linus Torvalds en 2005 y se ha convertido en una herramienta esencial para los desarrolladores.'"
      ]
     },
     "execution_count": 10,
     "metadata": {},
     "output_type": "execute_result"
    }
   ],
   "source": [
    "niString = 'Git es un sistema de control de versiones distribuido, ampliamente utilizado en el desarrollo de software para gestionar el seguimiento de cambios en el código fuente durante el desarrollo de un proyecto. Fue creado por Linus Torvalds en 2005 y se ha convertido en una herramienta esencial para los desarrolladores.'\n",
    "niString"
   ]
  },
  {
   "cell_type": "code",
   "execution_count": 11,
   "id": "2ce63709-ec2a-46ee-a131-541438e4006e",
   "metadata": {
    "tags": []
   },
   "outputs": [
    {
     "data": {
      "text/plain": [
       "'Git es especialmente útil en proyectos donde varios desarrolladores trabajan en el mismo código fuente, ya que permite un seguimiento preciso de los cambios, facilita la colaboración y proporciona un historial completo de versiones.'"
      ]
     },
     "execution_count": 11,
     "metadata": {},
     "output_type": "execute_result"
    }
   ],
   "source": [
    "niString ='Git es especialmente útil en proyectos donde varios desarrolladores trabajan en el mismo código fuente, ya que permite un seguimiento preciso de los cambios, facilita la colaboración y proporciona un historial completo de versiones.'\n",
    "niString"
   ]
  },
  {
   "cell_type": "markdown",
   "id": "5a5b7575-c0c7-4241-b2cc-83ca0b3c70dc",
   "metadata": {
    "tags": []
   },
   "source": [
    "# 2. Que es GitGub"
   ]
  },
  {
   "cell_type": "code",
   "execution_count": 13,
   "id": "3f5a17ea-ee7f-4712-972b-5a46c62db809",
   "metadata": {
    "tags": []
   },
   "outputs": [
    {
     "data": {
      "text/plain": [
       "'GitHub es una plataforma de desarrollo colaborativo basada en la nube que utiliza el sistema de control de versiones Git. Proporciona un entorno para alojar y revisar el código fuente de los proyectos, facilitando la colaboración entre desarrolladores.'"
      ]
     },
     "execution_count": 13,
     "metadata": {},
     "output_type": "execute_result"
    }
   ],
   "source": [
    "niString = 'GitHub es una plataforma de desarrollo colaborativo basada en la nube que utiliza el sistema de control de versiones Git. Proporciona un entorno para alojar y revisar el código fuente de los proyectos, facilitando la colaboración entre desarrolladores.'\n",
    "niString"
   ]
  },
  {
   "cell_type": "code",
   "execution_count": 14,
   "id": "906284e0-ffae-48f3-945e-30c1be46118c",
   "metadata": {
    "tags": []
   },
   "outputs": [
    {
     "data": {
      "text/plain": [
       "'GitHub es ampliamente utilizado en la comunidad de desarrollo de software y es especialmente popular en proyectos de código abierto. Además, proporciona una interfaz web amigable y una serie de características que facilitan la colaboración y la gestión de proyectos.'"
      ]
     },
     "execution_count": 14,
     "metadata": {},
     "output_type": "execute_result"
    }
   ],
   "source": [
    "niString = 'GitHub es ampliamente utilizado en la comunidad de desarrollo de software y es especialmente popular en proyectos de código abierto. Además, proporciona una interfaz web amigable y una serie de características que facilitan la colaboración y la gestión de proyectos.'\n",
    "niString"
   ]
  },
  {
   "cell_type": "markdown",
   "id": "38a8270e-7100-43d4-954a-47fe08ed795b",
   "metadata": {},
   "source": [
    "# 3. Que son MagicCells"
   ]
  },
  {
   "cell_type": "code",
   "execution_count": 15,
   "id": "3af12837-57be-4e71-876f-06ec80b5b559",
   "metadata": {
    "tags": []
   },
   "outputs": [
    {
     "data": {
      "text/plain": [
       "'Las celdas de código del cuaderno Jupyter pueden contener comandos especiales que no son código Python válido, pero que afectarán el comportamiento del cuaderno.'"
      ]
     },
     "execution_count": 15,
     "metadata": {},
     "output_type": "execute_result"
    }
   ],
   "source": [
    "niString ='Las celdas de código del cuaderno Jupyter pueden contener comandos especiales que no son código Python válido, pero que afectarán el comportamiento del cuaderno.'\n",
    "niString"
   ]
  },
  {
   "cell_type": "code",
   "execution_count": 16,
   "id": "e872df1f-5bbf-4cc5-8d88-efa1744e2014",
   "metadata": {
    "tags": []
   },
   "outputs": [
    {
     "data": {
      "text/plain": [
       "'El uso de este comando al inicio de un cuaderno de Jupyter producirá gráficos matplotlib en línea en las celdas del cuaderno. Sin %matplotlib en línea, los gráficos aparecerán como ventanas externas.'"
      ]
     },
     "execution_count": 16,
     "metadata": {},
     "output_type": "execute_result"
    }
   ],
   "source": [
    "niString = 'El uso de este comando al inicio de un cuaderno de Jupyter producirá gráficos matplotlib en línea en las celdas del cuaderno. Sin %matplotlib en línea, los gráficos aparecerán como ventanas externas.'\n",
    "niString"
   ]
  },
  {
   "cell_type": "code",
   "execution_count": null,
   "id": "249568c5-17d3-487d-8751-eb4b74a2bf98",
   "metadata": {},
   "outputs": [],
   "source": []
  }
 ],
 "metadata": {
  "kernelspec": {
   "display_name": "Python 3 (ipykernel)",
   "language": "python",
   "name": "python3"
  },
  "language_info": {
   "codemirror_mode": {
    "name": "ipython",
    "version": 3
   },
   "file_extension": ".py",
   "mimetype": "text/x-python",
   "name": "python",
   "nbconvert_exporter": "python",
   "pygments_lexer": "ipython3",
   "version": "3.11.5"
  }
 },
 "nbformat": 4,
 "nbformat_minor": 5
}
